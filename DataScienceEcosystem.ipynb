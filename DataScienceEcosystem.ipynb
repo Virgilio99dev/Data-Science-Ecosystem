{
 "cells": [
  {
   "cell_type": "markdown",
   "id": "33021bcf-7bbe-4dda-acc9-af31d4d37d6a",
   "metadata": {},
   "source": [
    "<h1>Data Science Tools and Ecosystem</h1>"
   ]
  },
  {
   "cell_type": "markdown",
   "id": "8771006b-5e28-465d-8af5-a1613238ef38",
   "metadata": {},
   "source": [
    "<p>In this notebook, Data Science Tools and Ecosystem are summarized.</p>"
   ]
  },
  {
   "cell_type": "markdown",
   "id": "4d5d2c4c-257b-47e8-aeda-5a25df4ab536",
   "metadata": {
    "tags": []
   },
   "source": [
    "<div>\n",
    "    <p style=\"font-weight: bold;\">Objectives:<p>\n",
    "    <ul>\n",
    "        <li>List popular languages for Data Science.</li>\n",
    "        <li>List popular libraries for Data Science.</li>\n",
    "        <li>List popular Data Science development environment open source tools.</li>\n",
    "        <li>Arithmetic operations.</li>\n",
    "    <ul>\n",
    "</div>"
   ]
  },
  {
   "cell_type": "markdown",
   "id": "ad0107aa-1cc1-4d4f-bc39-6d56b8c5bd03",
   "metadata": {},
   "source": [
    "<div>\n",
    "    <p>Some of the popular languages that Data Scientists use are:<p>\n",
    "    <ol>\n",
    "        <li>R</li>\n",
    "        <li>Python</li>\n",
    "        <li>Scala</li>\n",
    "        <li>Julia</li>\n",
    "        <li>Sql</li>\n",
    "    <ol>\n",
    "</div>"
   ]
  },
  {
   "cell_type": "markdown",
   "id": "28379b03-1cab-49f8-bff1-e442805f2016",
   "metadata": {},
   "source": [
    "<div>\n",
    "    <p>Some of the commonly used libraries used by Data Scientists include:<p>\n",
    "    <ol>\n",
    "        <li>Pandas</li>\n",
    "        <li>Matplotlib</li>\n",
    "        <li>Numpy</li>\n",
    "    <ol>\n",
    "</div>"
   ]
  },
  {
   "cell_type": "markdown",
   "id": "11727d01-7046-4db1-98fa-f2b2ca79b195",
   "metadata": {
    "tags": []
   },
   "source": [
    "| Data Science Tools    |\n",
    "|-----------------------|\n",
    "| Jupyter Notebook      |\n",
    "| RStudio               |\n",
    "| Apache Zeppelin       |"
   ]
  },
  {
   "cell_type": "markdown",
   "id": "0912b0d8-1971-47c7-820a-762249f02381",
   "metadata": {},
   "source": [
    "<h3>Below are a few examples of evaluating arithmetic expressions in Python</h3>"
   ]
  },
  {
   "cell_type": "code",
   "execution_count": 5,
   "id": "23a73650-3b60-40a6-9348-35f8b44a0f1d",
   "metadata": {
    "tags": []
   },
   "outputs": [
    {
     "data": {
      "text/plain": [
       "17"
      ]
     },
     "execution_count": 5,
     "metadata": {},
     "output_type": "execute_result"
    }
   ],
   "source": [
    "# This is a simple arithmetic expression\n",
    "(3*4)+5"
   ]
  },
  {
   "cell_type": "code",
   "execution_count": 6,
   "id": "93bc8ed4-7b28-421c-bf0b-1ff675e24903",
   "metadata": {
    "tags": []
   },
   "outputs": [
    {
     "data": {
      "text/plain": [
       "3.3333333333333335"
      ]
     },
     "execution_count": 6,
     "metadata": {},
     "output_type": "execute_result"
    }
   ],
   "source": [
    "# This will convert 200 minutes to hours by dividing by 60\n",
    "minutes = 200\n",
    "hours = minutes / 60\n",
    "hours"
   ]
  },
  {
   "cell_type": "markdown",
   "id": "33b96747-1ace-4232-bb5e-8ea9c950b83e",
   "metadata": {},
   "source": [
    "<h2>Author:</h2>\n",
    "<p>Virgilio lopez</p>"
   ]
  },
  {
   "cell_type": "code",
   "execution_count": null,
   "id": "bb4c97b0-a3df-4ecf-93c4-5ef8dc281326",
   "metadata": {},
   "outputs": [],
   "source": []
  }
 ],
 "metadata": {
  "kernelspec": {
   "display_name": "Python",
   "language": "python",
   "name": "conda-env-python-py"
  },
  "language_info": {
   "codemirror_mode": {
    "name": "ipython",
    "version": 3
   },
   "file_extension": ".py",
   "mimetype": "text/x-python",
   "name": "python",
   "nbconvert_exporter": "python",
   "pygments_lexer": "ipython3",
   "version": "3.7.12"
  }
 },
 "nbformat": 4,
 "nbformat_minor": 5
}
